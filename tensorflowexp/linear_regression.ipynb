{
 "cells": [
  {
   "cell_type": "code",
   "execution_count": 22,
   "metadata": {},
   "outputs": [],
   "source": [
    "import tensorflow as tf\n",
    "import numpy as np #공부\n",
    "import matplotlib.pyplot as plt #공부\n",
    "import csv ##CSV 파일 실행은 실패!!"
   ]
  },
  {
   "cell_type": "code",
   "execution_count": 3,
   "metadata": {},
   "outputs": [
    {
     "name": "stdout",
     "output_type": "stream",
     "text": [
      "tf.Tensor(7.046465, shape=(), dtype=float32)\n"
     ]
    }
   ],
   "source": [
    "@tf.function\n",
    "def mul(a,b): return a+b;\n",
    "\n",
    "A = tf.constant(3.1564651468685)\n",
    "B = tf.constant(3.89)\n",
    "\n",
    "print(mul(A,B))"
   ]
  },
  {
   "cell_type": "code",
   "execution_count": 60,
   "metadata": {},
   "outputs": [],
   "source": [
    "#무작위 예제\n",
    "num_points = 1000\n",
    "vectors_set = []\n",
    "for i in range(num_points):\n",
    "    x1 = np.random.normal(0.0,0.55)\n",
    "    y1 = np.random.normal(0.0,0.3)\n",
    "    vectors_set.append([x1,y1])\n",
    "x1_data = [v[0] for v in vectors_set]\n",
    "y1_data = [v[1] for v in vectors_set]\n",
    "  \n",
    "    \n",
    "csv_data =  np.genfromtxt(fname = 'train.csv', delimiter=',',dtype = np.float64)\n",
    "x_data = [v[0] for v in csv_data]\n",
    "y_data = [v[1] for v in csv_data]\n",
    "#x_data = np.array(x_data)\n",
    "#y_data = np.array(y_data)"
   ]
  },
  {
   "cell_type": "code",
   "execution_count": 48,
   "metadata": {},
   "outputs": [
    {
     "data": {
      "image/png": "[encoded data removed]",
      "text/plain": [
       "<Figure size 432x288 with 1 Axes>"
      ]
     },
     "metadata": {
      "needs_background": "light"
     },
     "output_type": "display_data"
    }
   ],
   "source": [
    "#%matplotlib inline\n",
    "plt.plot(x_data,y_data,'ro')\n",
    "plt.show()"
   ]
  },
  {
   "cell_type": "code",
   "execution_count": 74,
   "metadata": {},
   "outputs": [],
   "source": [
    "W = tf.Variable(tf.random.uniform([1],-10.0,10.0))\n",
    "b = tf.Variable(tf.zeros([1]))\n",
    "y = W*x_data + b\n"
   ]
  },
  {
   "cell_type": "code",
   "execution_count": 77,
   "metadata": {},
   "outputs": [
    {
     "name": "stdout",
     "output_type": "stream",
     "text": [
      "tf.Tensor(nan, shape=(), dtype=float32)\n"
     ]
    }
   ],
   "source": [
    "print(tf.reduce_mean(tf.square(y-y_data)))"
   ]
  },
  {
   "cell_type": "code",
   "execution_count": 65,
   "metadata": {},
   "outputs": [
    {
     "name": "stdout",
     "output_type": "stream",
     "text": [
      "Epoch 1/100\n",
      "22/22 [==============================] - 1s 2ms/step - loss: nan   \n",
      "Epoch 2/100\n",
      "22/22 [==============================] - 0s 2ms/step - loss: nan\n",
      "Epoch 3/100\n",
      "22/22 [==============================] - 0s 2ms/step - loss: nan\n",
      "Epoch 4/100\n",
      "22/22 [==============================] - 0s 2ms/step - loss: nan\n",
      "Epoch 5/100\n",
      "22/22 [==============================] - 0s 2ms/step - loss: nan\n",
      "Epoch 6/100\n",
      "22/22 [==============================] - 0s 2ms/step - loss: nan\n",
      "Epoch 7/100\n",
      "22/22 [==============================] - 0s 2ms/step - loss: nan\n",
      "Epoch 8/100\n",
      "22/22 [==============================] - 0s 2ms/step - loss: nan\n",
      "Epoch 9/100\n",
      "22/22 [==============================] - 0s 2ms/step - loss: nan\n",
      "Epoch 10/100\n",
      "22/22 [==============================] - 0s 2ms/step - loss: nan\n",
      "Epoch 11/100\n",
      "22/22 [==============================] - 0s 2ms/step - loss: nan\n",
      "Epoch 12/100\n",
      "22/22 [==============================] - 0s 2ms/step - loss: nan\n",
      "Epoch 13/100\n",
      "22/22 [==============================] - 0s 2ms/step - loss: nan\n",
      "Epoch 14/100\n",
      "22/22 [==============================] - 0s 3ms/step - loss: nan\n",
      "Epoch 15/100\n",
      "22/22 [==============================] - 0s 4ms/step - loss: nan\n",
      "Epoch 16/100\n",
      "22/22 [==============================] - 0s 3ms/step - loss: nan\n",
      "Epoch 17/100\n",
      "22/22 [==============================] - 0s 3ms/step - loss: nan\n",
      "Epoch 18/100\n",
      "22/22 [==============================] - 0s 3ms/step - loss: nan\n",
      "Epoch 19/100\n",
      "22/22 [==============================] - 0s 3ms/step - loss: nan\n",
      "Epoch 20/100\n",
      "22/22 [==============================] - 0s 3ms/step - loss: nan\n",
      "Epoch 21/100\n",
      "22/22 [==============================] - 0s 3ms/step - loss: nan\n",
      "Epoch 22/100\n",
      "22/22 [==============================] - 0s 3ms/step - loss: nan\n",
      "Epoch 23/100\n",
      "22/22 [==============================] - 0s 3ms/step - loss: nan\n",
      "Epoch 24/100\n",
      "22/22 [==============================] - 0s 3ms/step - loss: nan\n",
      "Epoch 25/100\n",
      "22/22 [==============================] - 0s 3ms/step - loss: nan\n",
      "Epoch 26/100\n",
      "22/22 [==============================] - 0s 3ms/step - loss: nan\n",
      "Epoch 27/100\n",
      "22/22 [==============================] - 0s 3ms/step - loss: nan\n",
      "Epoch 28/100\n",
      "22/22 [==============================] - 0s 3ms/step - loss: nan\n",
      "Epoch 29/100\n",
      "22/22 [==============================] - 0s 3ms/step - loss: nan\n",
      "Epoch 30/100\n",
      "22/22 [==============================] - 0s 3ms/step - loss: nan\n",
      "Epoch 31/100\n",
      "22/22 [==============================] - 0s 3ms/step - loss: nan\n",
      "Epoch 32/100\n",
      "22/22 [==============================] - 0s 3ms/step - loss: nan\n",
      "Epoch 33/100\n",
      "22/22 [==============================] - 0s 3ms/step - loss: nan\n",
      "Epoch 34/100\n",
      "22/22 [==============================] - 0s 3ms/step - loss: nan\n",
      "Epoch 35/100\n",
      "22/22 [==============================] - 0s 3ms/step - loss: nan\n",
      "Epoch 36/100\n",
      "22/22 [==============================] - 0s 3ms/step - loss: nan\n",
      "Epoch 37/100\n",
      "22/22 [==============================] - 0s 3ms/step - loss: nan\n",
      "Epoch 38/100\n",
      "22/22 [==============================] - 0s 3ms/step - loss: nan\n",
      "Epoch 39/100\n",
      "22/22 [==============================] - 0s 3ms/step - loss: nan\n",
      "Epoch 40/100\n",
      "22/22 [==============================] - 0s 4ms/step - loss: nan\n",
      "Epoch 41/100\n",
      "22/22 [==============================] - 0s 4ms/step - loss: nan\n",
      "Epoch 42/100\n",
      "22/22 [==============================] - 0s 3ms/step - loss: nan\n",
      "Epoch 43/100\n",
      "22/22 [==============================] - 0s 3ms/step - loss: nan\n",
      "Epoch 44/100\n",
      "22/22 [==============================] - 0s 3ms/step - loss: nan\n",
      "Epoch 45/100\n",
      "22/22 [==============================] - 0s 3ms/step - loss: nan\n",
      "Epoch 46/100\n",
      "22/22 [==============================] - 0s 2ms/step - loss: nan\n",
      "Epoch 47/100\n",
      "22/22 [==============================] - 0s 2ms/step - loss: nan\n",
      "Epoch 48/100\n",
      "22/22 [==============================] - 0s 1ms/step - loss: nan\n",
      "Epoch 49/100\n",
      "22/22 [==============================] - 0s 2ms/step - loss: nan\n",
      "Epoch 50/100\n",
      "22/22 [==============================] - 0s 2ms/step - loss: nan\n",
      "Epoch 51/100\n",
      "22/22 [==============================] - 0s 2ms/step - loss: nan\n",
      "Epoch 52/100\n",
      "22/22 [==============================] - 0s 2ms/step - loss: nan\n",
      "Epoch 53/100\n",
      "22/22 [==============================] - 0s 2ms/step - loss: nan\n",
      "Epoch 54/100\n",
      "22/22 [==============================] - 0s 2ms/step - loss: nan\n",
      "Epoch 55/100\n",
      "22/22 [==============================] - 0s 2ms/step - loss: nan\n",
      "Epoch 56/100\n",
      "22/22 [==============================] - 0s 1ms/step - loss: nan\n",
      "Epoch 57/100\n",
      "22/22 [==============================] - 0s 2ms/step - loss: nan\n",
      "Epoch 58/100\n",
      "22/22 [==============================] - 0s 2ms/step - loss: nan\n",
      "Epoch 59/100\n",
      "22/22 [==============================] - 0s 2ms/step - loss: nan\n",
      "Epoch 60/100\n",
      "22/22 [==============================] - 0s 2ms/step - loss: nan\n",
      "Epoch 61/100\n",
      "22/22 [==============================] - 0s 2ms/step - loss: nan\n",
      "Epoch 62/100\n",
      "22/22 [==============================] - 0s 2ms/step - loss: nan\n",
      "Epoch 63/100\n",
      "22/22 [==============================] - 0s 2ms/step - loss: nan\n",
      "Epoch 64/100\n",
      "22/22 [==============================] - 0s 3ms/step - loss: nan\n",
      "Epoch 65/100\n",
      "22/22 [==============================] - 0s 2ms/step - loss: nan\n",
      "Epoch 66/100\n",
      "22/22 [==============================] - 0s 2ms/step - loss: nan\n",
      "Epoch 67/100\n",
      "22/22 [==============================] - 0s 2ms/step - loss: nan\n",
      "Epoch 68/100\n",
      "22/22 [==============================] - 0s 3ms/step - loss: nan\n",
      "Epoch 69/100\n",
      "22/22 [==============================] - 0s 3ms/step - loss: nan\n",
      "Epoch 70/100\n",
      "22/22 [==============================] - 0s 3ms/step - loss: nan\n",
      "Epoch 71/100\n",
      "22/22 [==============================] - 0s 3ms/step - loss: nan\n",
      "Epoch 72/100\n",
      "22/22 [==============================] - 0s 2ms/step - loss: nan\n",
      "Epoch 73/100\n",
      "22/22 [==============================] - 0s 1ms/step - loss: nan\n",
      "Epoch 74/100\n",
      "22/22 [==============================] - 0s 2ms/step - loss: nan\n",
      "Epoch 75/100\n",
      "22/22 [==============================] - 0s 1ms/step - loss: nan\n",
      "Epoch 76/100\n",
      "22/22 [==============================] - 0s 1ms/step - loss: nan\n",
      "Epoch 77/100\n",
      "22/22 [==============================] - 0s 3ms/step - loss: nan\n",
      "Epoch 78/100\n",
      "22/22 [==============================] - 0s 3ms/step - loss: nan\n",
      "Epoch 79/100\n",
      "22/22 [==============================] - 0s 3ms/step - loss: nan\n",
      "Epoch 80/100\n",
      "22/22 [==============================] - 0s 3ms/step - loss: nan\n",
      "Epoch 81/100\n",
      "22/22 [==============================] - 0s 3ms/step - loss: nan\n",
      "Epoch 82/100\n",
      "22/22 [==============================] - 0s 4ms/step - loss: nan\n",
      "Epoch 83/100\n",
      "22/22 [==============================] - ETA: 0s - loss: n - 0s 2ms/step - loss: nan\n",
      "Epoch 84/100\n",
      "22/22 [==============================] - 0s 2ms/step - loss: nan\n",
      "Epoch 85/100\n",
      "22/22 [==============================] - 0s 2ms/step - loss: nan\n",
      "Epoch 86/100\n",
      "22/22 [==============================] - 0s 2ms/step - loss: nan\n",
      "Epoch 87/100\n",
      "22/22 [==============================] - 0s 3ms/step - loss: nan\n",
      "Epoch 88/100\n",
      "22/22 [==============================] - 0s 3ms/step - loss: nan\n",
      "Epoch 89/100\n",
      "22/22 [==============================] - 0s 2ms/step - loss: nan\n",
      "Epoch 90/100\n",
      "22/22 [==============================] - 0s 2ms/step - loss: nan\n",
      "Epoch 91/100\n",
      "22/22 [==============================] - 0s 2ms/step - loss: nan\n",
      "Epoch 92/100\n",
      "22/22 [==============================] - 0s 2ms/step - loss: nan\n",
      "Epoch 93/100\n",
      "22/22 [==============================] - 0s 2ms/step - loss: nan\n",
      "Epoch 94/100\n",
      "22/22 [==============================] - 0s 2ms/step - loss: nan\n",
      "Epoch 95/100\n",
      "22/22 [==============================] - 0s 2ms/step - loss: nan\n",
      "Epoch 96/100\n",
      "22/22 [==============================] - 0s 2ms/step - loss: nan\n",
      "Epoch 97/100\n",
      "22/22 [==============================] - 0s 2ms/step - loss: nan\n",
      "Epoch 98/100\n",
      "22/22 [==============================] - 0s 2ms/step - loss: nan\n",
      "Epoch 99/100\n",
      "22/22 [==============================] - 0s 2ms/step - loss: nan\n",
      "Epoch 100/100\n",
      "22/22 [==============================] - 0s 2ms/step - loss: nan\n"
     ]
    },
    {
     "ename": "TypeError",
     "evalue": "'builtin_function_or_method' object is not subscriptable",
     "output_type": "error",
     "traceback": [
      "\u001b[1;31m---------------------------------------------------------------------------\u001b[0m",
      "\u001b[1;31mTypeError\u001b[0m                                 Traceback (most recent call last)",
      "\u001b[1;32m<ipython-input-65-563f1be94bbd>\u001b[0m in \u001b[0;36m<module>\u001b[1;34m\u001b[0m\n\u001b[0;32m      8\u001b[0m \u001b[0mmodel\u001b[0m\u001b[1;33m.\u001b[0m\u001b[0mcompile\u001b[0m\u001b[1;33m(\u001b[0m\u001b[0mloss\u001b[0m \u001b[1;33m=\u001b[0m \u001b[1;34m'mean_squared_error'\u001b[0m\u001b[1;33m,\u001b[0m\u001b[0moptimizer\u001b[0m \u001b[1;33m=\u001b[0m \u001b[0msgd\u001b[0m\u001b[1;33m)\u001b[0m\u001b[1;33m\u001b[0m\u001b[1;33m\u001b[0m\u001b[0m\n\u001b[0;32m      9\u001b[0m \u001b[0mmodel\u001b[0m\u001b[1;33m.\u001b[0m\u001b[0mfit\u001b[0m\u001b[1;33m(\u001b[0m\u001b[0mx_data\u001b[0m\u001b[1;33m,\u001b[0m\u001b[0my_data\u001b[0m\u001b[1;33m,\u001b[0m\u001b[0mepochs\u001b[0m \u001b[1;33m=\u001b[0m \u001b[1;36m100\u001b[0m\u001b[1;33m)\u001b[0m\u001b[1;33m\u001b[0m\u001b[1;33m\u001b[0m\u001b[0m\n\u001b[1;32m---> 10\u001b[1;33m \u001b[0mprint\u001b[0m\u001b[1;33m(\u001b[0m\u001b[0mmodel\u001b[0m\u001b[1;33m.\u001b[0m\u001b[0mpredict\u001b[0m\u001b[1;33m(\u001b[0m\u001b[0mnp\u001b[0m\u001b[1;33m.\u001b[0m\u001b[0marray\u001b[0m\u001b[1;33m[\u001b[0m\u001b[1;36m5\u001b[0m\u001b[1;33m]\u001b[0m\u001b[1;33m)\u001b[0m\u001b[1;33m)\u001b[0m\u001b[1;33m\u001b[0m\u001b[1;33m\u001b[0m\u001b[0m\n\u001b[0m",
      "\u001b[1;31mTypeError\u001b[0m: 'builtin_function_or_method' object is not subscriptable"
     ]
    }
   ],
   "source": [
    "cost = tf.reduce_mean(tf.square(y-y_data))\n",
    "\n",
    "\n",
    "sgd = tf.keras.optimizers.SGD(learning_rate = 0.8)\n",
    "\n",
    "model = tf.keras.models.Sequential()\n",
    "model.add(tf.keras.layers.Dense(1,input_dim = 1))\n",
    "model.compile(loss = 'mean_squared_error',optimizer = sgd)\n",
    "model.fit(x_data,y_data,epochs = 100)\n",
    "print(model.predict(np.array[5]))"
   ]
  },
  {
   "cell_type": "code",
   "execution_count": null,
   "metadata": {},
   "outputs": [],
   "source": [
    "plt.plot(x_data,y_data,'ro',label = \"Original Data\")\n",
    "plt.plot(x_data,np.array(W*x_data+b),label = \"Fitted line\")\n",
    "plt.legend()\n",
    "plt.show()"
   ]
  },
  {
   "cell_type": "code",
   "execution_count": 33,
   "metadata": {},
   "outputs": [
    {
     "name": "stdout",
     "output_type": "stream",
     "text": [
      "[2.31948137]\r\n"
     ]
    }
   ],
   "source": [
    "def linear_regression(x):\n",
    "    return W*x + b\n",
    "tf.print(linear_regression(5))"
   ]
  },
  {
   "cell_type": "code",
   "execution_count": null,
   "metadata": {},
   "outputs": [],
   "source": []
  }
 ],
 "metadata": {
  "kernelspec": {
   "display_name": "Python 3",
   "language": "python",
   "name": "python3"
  },
  "language_info": {
   "codemirror_mode": {
    "name": "ipython",
    "version": 3
   },
   "file_extension": ".py",
   "mimetype": "text/x-python",
   "name": "python",
   "nbconvert_exporter": "python",
   "pygments_lexer": "ipython3",
   "version": "3.8.5"
  }
 },
 "nbformat": 4,
 "nbformat_minor": 4
}
