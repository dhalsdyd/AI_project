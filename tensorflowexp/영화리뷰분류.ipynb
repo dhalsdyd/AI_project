{
 "cells": [
  {
   "cell_type": "code",
   "execution_count": 1,
   "metadata": {},
   "outputs": [],
   "source": [
    "import tensorflow as tf \n",
    "from tensorflow import keras\n",
    "import numpy as np"
   ]
  },
  {
   "cell_type": "code",
   "execution_count": 4,
   "metadata": {},
   "outputs": [],
   "source": [
    "imdb = keras.datasets.imdb\n",
    "(train_data, train_labels), (test_data, test_labels) = imdb.load_data(num_words=10000)"
   ]
  },
  {
   "cell_type": "code",
   "execution_count": 9,
   "metadata": {},
   "outputs": [],
   "source": [
    "word_index = imdb.get_word_index()\n",
    "word_index = {k : (v+3) for k,v in word_index.items()}\n",
    "word_index[\"<PAD>\"] = 0\n",
    "word_index[\"<START>\"] = 1\n",
    "word_index[\"<UNK>\"] = 2\n",
    "word_index[\"<UNUSED>\"] = 3\n",
    "reverse_word_index = dict([(value,key) for (key,value) in word_index.items()])\n",
    "def decode_review(text):\n",
    "    return ' '.join([reverse_word_index.get(i,'?') for i in text])"
   ]
  },
  {
   "cell_type": "code",
   "execution_count": 10,
   "metadata": {},
   "outputs": [],
   "source": [
    "train_data = keras.preprocessing.sequence.pad_sequences(train_data,\n",
    "                                                        value=word_index[\"<PAD>\"],\n",
    "                                                        padding='post',\n",
    "                                                        maxlen=256)"
   ]
  },
  {
   "cell_type": "code",
   "execution_count": 12,
   "metadata": {},
   "outputs": [
    {
     "name": "stdout",
     "output_type": "stream",
     "text": [
      "Model: \"sequential\"\n",
      "_________________________________________________________________\n",
      "Layer (type)                 Output Shape              Param #   \n",
      "=================================================================\n",
      "embedding (Embedding)        (None, None, 16)          160000    \n",
      "_________________________________________________________________\n",
      "global_average_pooling1d (Gl (None, 16)                0         \n",
      "_________________________________________________________________\n",
      "dense (Dense)                (None, 16)                272       \n",
      "_________________________________________________________________\n",
      "dense_1 (Dense)              (None, 1)                 17        \n",
      "=================================================================\n",
      "Total params: 160,289\n",
      "Trainable params: 160,289\n",
      "Non-trainable params: 0\n",
      "_________________________________________________________________\n"
     ]
    }
   ],
   "source": [
    "# 입력 크기는 영화 리뷰 데이터셋에 적용된 어휘 사전의 크기입니다(10,000개의 단어)\n",
    "vocab_size = 10000\n",
    "\n",
    "model = keras.Sequential()\n",
    "model.add(keras.layers.Embedding(vocab_size, 16, input_shape=(None,)))\n",
    "model.add(keras.layers.GlobalAveragePooling1D())\n",
    "model.add(keras.layers.Dense(16, activation='relu'))\n",
    "model.add(keras.layers.Dense(1, activation='sigmoid'))\n",
    "\n",
    "model.summary()"
   ]
  },
  {
   "cell_type": "code",
   "execution_count": 13,
   "metadata": {},
   "outputs": [],
   "source": [
    "model.compile(optimizer='adam',\n",
    "              loss='binary_crossentropy',\n",
    "              metrics=['accuracy'])"
   ]
  },
  {
   "cell_type": "code",
   "execution_count": 14,
   "metadata": {},
   "outputs": [],
   "source": [
    "x_val = train_data[:10000]\n",
    "partial_x_train = train_data[10000:]\n",
    "\n",
    "y_val = train_labels[:10000]\n",
    "partial_y_train = train_labels[10000:]"
   ]
  },
  {
   "cell_type": "code",
   "execution_count": 15,
   "metadata": {},
   "outputs": [
    {
     "name": "stdout",
     "output_type": "stream",
     "text": [
      "Epoch 1/40\n",
      "30/30 [==============================] - 4s 66ms/step - loss: 0.6927 - accuracy: 0.5195 - val_loss: 0.6900 - val_accuracy: 0.5486\n",
      "Epoch 2/40\n",
      "30/30 [==============================] - 1s 37ms/step - loss: 0.6877 - accuracy: 0.6396 - val_loss: 0.6817 - val_accuracy: 0.7158\n",
      "Epoch 3/40\n",
      "30/30 [==============================] - 1s 37ms/step - loss: 0.6768 - accuracy: 0.7295 - val_loss: 0.6657 - val_accuracy: 0.7212\n",
      "Epoch 4/40\n",
      "30/30 [==============================] - 1s 40ms/step - loss: 0.6564 - accuracy: 0.7587 - val_loss: 0.6410 - val_accuracy: 0.7573\n",
      "Epoch 5/40\n",
      "30/30 [==============================] - 1s 39ms/step - loss: 0.6262 - accuracy: 0.7799 - val_loss: 0.6076 - val_accuracy: 0.7836\n",
      "Epoch 6/40\n",
      "30/30 [==============================] - 1s 44ms/step - loss: 0.5868 - accuracy: 0.8027 - val_loss: 0.5686 - val_accuracy: 0.7956\n",
      "Epoch 7/40\n",
      "30/30 [==============================] - 1s 38ms/step - loss: 0.5427 - accuracy: 0.8303 - val_loss: 0.5275 - val_accuracy: 0.8179\n",
      "Epoch 8/40\n",
      "30/30 [==============================] - 1s 38ms/step - loss: 0.4987 - accuracy: 0.8393 - val_loss: 0.4879 - val_accuracy: 0.8313\n",
      "Epoch 9/40\n",
      "30/30 [==============================] - 1s 38ms/step - loss: 0.4564 - accuracy: 0.8524 - val_loss: 0.4516 - val_accuracy: 0.8427\n",
      "Epoch 10/40\n",
      "30/30 [==============================] - 1s 37ms/step - loss: 0.4172 - accuracy: 0.8677 - val_loss: 0.4211 - val_accuracy: 0.8486\n",
      "Epoch 11/40\n",
      "30/30 [==============================] - 1s 38ms/step - loss: 0.3814 - accuracy: 0.8802 - val_loss: 0.3951 - val_accuracy: 0.8566\n",
      "Epoch 12/40\n",
      "30/30 [==============================] - 1s 39ms/step - loss: 0.3529 - accuracy: 0.8869 - val_loss: 0.3743 - val_accuracy: 0.8629\n",
      "Epoch 13/40\n",
      "30/30 [==============================] - 1s 40ms/step - loss: 0.3264 - accuracy: 0.8920 - val_loss: 0.3575 - val_accuracy: 0.8671\n",
      "Epoch 14/40\n",
      "30/30 [==============================] - 1s 37ms/step - loss: 0.3045 - accuracy: 0.8983 - val_loss: 0.3437 - val_accuracy: 0.8716\n",
      "Epoch 15/40\n",
      "30/30 [==============================] - 1s 34ms/step - loss: 0.2884 - accuracy: 0.9028 - val_loss: 0.3320 - val_accuracy: 0.8738\n",
      "Epoch 16/40\n",
      "30/30 [==============================] - 1s 39ms/step - loss: 0.2660 - accuracy: 0.9128 - val_loss: 0.3229 - val_accuracy: 0.8743\n",
      "Epoch 17/40\n",
      "30/30 [==============================] - 1s 37ms/step - loss: 0.2576 - accuracy: 0.9140 - val_loss: 0.3153 - val_accuracy: 0.8777\n",
      "Epoch 18/40\n",
      "30/30 [==============================] - 1s 38ms/step - loss: 0.2440 - accuracy: 0.9161 - val_loss: 0.3085 - val_accuracy: 0.8801\n",
      "Epoch 19/40\n",
      "30/30 [==============================] - 1s 39ms/step - loss: 0.2352 - accuracy: 0.9191 - val_loss: 0.3036 - val_accuracy: 0.8792\n",
      "Epoch 20/40\n",
      "30/30 [==============================] - 1s 38ms/step - loss: 0.2198 - accuracy: 0.9264 - val_loss: 0.2989 - val_accuracy: 0.8805\n",
      "Epoch 21/40\n",
      "30/30 [==============================] - 1s 35ms/step - loss: 0.2129 - accuracy: 0.9289 - val_loss: 0.2960 - val_accuracy: 0.8818\n",
      "Epoch 22/40\n",
      "30/30 [==============================] - 1s 37ms/step - loss: 0.2001 - accuracy: 0.9337 - val_loss: 0.2932 - val_accuracy: 0.8838\n",
      "Epoch 23/40\n",
      "30/30 [==============================] - 1s 35ms/step - loss: 0.1950 - accuracy: 0.9349 - val_loss: 0.2902 - val_accuracy: 0.8833\n",
      "Epoch 24/40\n",
      "30/30 [==============================] - 1s 33ms/step - loss: 0.1850 - accuracy: 0.9394 - val_loss: 0.2887 - val_accuracy: 0.8835\n",
      "Epoch 25/40\n",
      "30/30 [==============================] - 1s 31ms/step - loss: 0.1755 - accuracy: 0.9428 - val_loss: 0.2872 - val_accuracy: 0.8847\n",
      "Epoch 26/40\n",
      "30/30 [==============================] - 1s 31ms/step - loss: 0.1707 - accuracy: 0.9460 - val_loss: 0.2865 - val_accuracy: 0.8852\n",
      "Epoch 27/40\n",
      "30/30 [==============================] - 1s 34ms/step - loss: 0.1593 - accuracy: 0.9488 - val_loss: 0.2864 - val_accuracy: 0.8848\n",
      "Epoch 28/40\n",
      "30/30 [==============================] - 1s 35ms/step - loss: 0.1539 - accuracy: 0.9531 - val_loss: 0.2859 - val_accuracy: 0.8858\n",
      "Epoch 29/40\n",
      "30/30 [==============================] - 1s 33ms/step - loss: 0.1484 - accuracy: 0.9566 - val_loss: 0.2860 - val_accuracy: 0.8858\n",
      "Epoch 30/40\n",
      "30/30 [==============================] - 1s 33ms/step - loss: 0.1430 - accuracy: 0.9572 - val_loss: 0.2867 - val_accuracy: 0.8860\n",
      "Epoch 31/40\n",
      "30/30 [==============================] - 1s 33ms/step - loss: 0.1390 - accuracy: 0.9600 - val_loss: 0.2897 - val_accuracy: 0.8835\n",
      "Epoch 32/40\n",
      "30/30 [==============================] - 1s 30ms/step - loss: 0.1359 - accuracy: 0.9595 - val_loss: 0.2888 - val_accuracy: 0.8864\n",
      "Epoch 33/40\n",
      "30/30 [==============================] - 1s 31ms/step - loss: 0.1315 - accuracy: 0.9618 - val_loss: 0.2907 - val_accuracy: 0.8844\n",
      "Epoch 34/40\n",
      "30/30 [==============================] - 1s 29ms/step - loss: 0.1234 - accuracy: 0.9665 - val_loss: 0.2920 - val_accuracy: 0.8858\n",
      "Epoch 35/40\n",
      "30/30 [==============================] - 1s 33ms/step - loss: 0.1171 - accuracy: 0.9675 - val_loss: 0.2930 - val_accuracy: 0.8852\n",
      "Epoch 36/40\n",
      "30/30 [==============================] - 1s 34ms/step - loss: 0.1156 - accuracy: 0.9696 - val_loss: 0.2954 - val_accuracy: 0.8841\n",
      "Epoch 37/40\n",
      "30/30 [==============================] - 1s 37ms/step - loss: 0.1097 - accuracy: 0.9704 - val_loss: 0.2973 - val_accuracy: 0.8845\n",
      "Epoch 38/40\n",
      "30/30 [==============================] - 1s 39ms/step - loss: 0.1097 - accuracy: 0.9689 - val_loss: 0.3001 - val_accuracy: 0.8833 - accuracy: 0.96\n",
      "Epoch 39/40\n",
      "30/30 [==============================] - 1s 50ms/step - loss: 0.1039 - accuracy: 0.9714 - val_loss: 0.3036 - val_accuracy: 0.8829\n",
      "Epoch 40/40\n",
      "30/30 [==============================] - 2s 55ms/step - loss: 0.1009 - accuracy: 0.9740 - val_loss: 0.3057 - val_accuracy: 0.8829\n"
     ]
    }
   ],
   "source": [
    "history = model.fit(partial_x_train,\n",
    "                    partial_y_train,\n",
    "                    epochs=40,\n",
    "                    batch_size=512,\n",
    "                    validation_data=(x_val, y_val),\n",
    "                    verbose=1)"
   ]
  },
  {
   "cell_type": "code",
   "execution_count": null,
   "metadata": {},
   "outputs": [],
   "source": []
  }
 ],
 "metadata": {
  "kernelspec": {
   "display_name": "Python 3",
   "language": "python",
   "name": "python3"
  },
  "language_info": {
   "codemirror_mode": {
    "name": "ipython",
    "version": 3
   },
   "file_extension": ".py",
   "mimetype": "text/x-python",
   "name": "python",
   "nbconvert_exporter": "python",
   "pygments_lexer": "ipython3",
   "version": "3.8.5"
  }
 },
 "nbformat": 4,
 "nbformat_minor": 4
}
